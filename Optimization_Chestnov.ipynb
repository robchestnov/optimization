{
 "cells": [
  {
   "cell_type": "code",
   "execution_count": 96,
   "id": "b7c35313",
   "metadata": {},
   "outputs": [],
   "source": [
    "import numpy as np\n",
    "import pandas as pd\n",
    "from scipy.optimize import linprog\n",
    "from pprint import pprint\n",
    "import warnings\n",
    "warnings.filterwarnings(\"ignore\")"
   ]
  },
  {
   "cell_type": "code",
   "execution_count": 2,
   "id": "746f97b4",
   "metadata": {},
   "outputs": [],
   "source": [
    "# Поиск максимального потока как минимум функционала"
   ]
  },
  {
   "cell_type": "code",
   "execution_count": 117,
   "id": "0d24a0ed",
   "metadata": {},
   "outputs": [],
   "source": [
    "l_maxx_flow = [-1, 0, 0, 0, -1, 0, 0, 0, 0, 0]\n",
    "\n",
    "\n",
    "# левая сторона неравенств\n",
    "l_left_ineq_1 = [[1, 0, 0, 0, 0, 0, 0, 0, 0, 0],\n",
    "            [0, 1, 0, 0, 0, 0, 0, 0, 0, 0],\n",
    "            [0, 0, 1, 0, 0, 0, 0, 0, 0, 0],\n",
    "            [0, 0, 0, 1, 0, 0, 0, 0, 0, 0],\n",
    "            [0, 0, 0, 0, 1, 0, 0, 0, 0, 0],\n",
    "            [0, 0, 0, 0, 0, 1, 0, 0, 0, 0],\n",
    "            [0, 0, 0, 0, 0, 0, 1, 0, 0, 0],\n",
    "            [0, 0, 0, 0, 0, 0, 0, 1, 0, 0],\n",
    "            [0, 0, 0, 0, 0, 0, 0, 0, 1, 0],\n",
    "            [0, 0, 0, 0, 0, 0, 0, 0, 0, 1]]\n",
    "            \n",
    "# правая сторона неравенств\n",
    "l_right_ineq_1 = [8, 8, 5, 5, 10, 10, 10, 10, 10, 5]  \n",
    "\n",
    "# левая сторона равенств            \n",
    "l_left_eq_1 =  [[1, 0, 0, 0, 1, 0, 0, 0, 0, 0],\n",
    "          [-1, 1, 0, 0, 0, 0, 0, 0, 0, 0],\n",
    "          [0, -1, 1, 0, 0, 0, 0, 0, 0, 1],\n",
    "          [0, 0, -1, 1, 0, 0, 0, 0, 0, 0],\n",
    "          [0, 0, 0, 0, -1, 1, 0, 0, 0, 0],\n",
    "          [0, 0, 0, 0, 0, -1, 1, 0, 0, 0],\n",
    "          [0, 0, 0, 0, 0, 0, -1, 1, 0, 0],\n",
    "          [0, 0, 0, 0, 0, 0, 0, -1, 1, -1],\n",
    "          [0, 0, 0, -1, 0, 0, 0, 0, -1, 0]]\n",
    "\n",
    "# правая сторона равенств\n",
    "l_right_eq_1 = [15, 0, 0, 0, 0, 0, 0, 0, -15]"
   ]
  },
  {
   "cell_type": "code",
   "execution_count": 118,
   "id": "3bddfce3",
   "metadata": {},
   "outputs": [],
   "source": [
    "l_bounds_1 = [(0, float(\"inf\")),\n",
    "            (0, float(\"inf\")),\n",
    "            (0, float(\"inf\")),\n",
    "            (0, float(\"inf\")),\n",
    "            (0, float(\"inf\")),\n",
    "            (0, float(\"inf\")),\n",
    "            (0, float(\"inf\")),\n",
    "            (0, float(\"inf\")),\n",
    "            (0, float(\"inf\")),\n",
    "            (0, float(\"inf\")),]"
   ]
  },
  {
   "cell_type": "code",
   "execution_count": 119,
   "id": "a11853b0",
   "metadata": {},
   "outputs": [
    {
     "data": {
      "text/plain": [
       "     con: array([0., 0., 0., 0., 0., 0., 0., 0., 0.])\n",
       "     fun: -15.0\n",
       " message: 'Optimization terminated successfully.'\n",
       "     nit: 10\n",
       "   slack: array([3., 3., 0., 0., 0., 0., 0., 0., 0., 5.])\n",
       "  status: 0\n",
       " success: True\n",
       "       x: array([ 5.,  5.,  5.,  5., 10., 10., 10., 10., 10.,  0.])"
      ]
     },
     "execution_count": 119,
     "metadata": {},
     "output_type": "execute_result"
    }
   ],
   "source": [
    "l_optimization_1 = linprog(c=maxx_flow, A_ub=left_ineq_1, b_ub=right_ineq_1,\n",
    "                         A_eq=left_eq_1, b_eq=right_eq_1, bounds=bounds_1,\n",
    "                         method=\"revised simplex\")\n",
    "\n",
    "l_optimization_1\n"
   ]
  },
  {
   "cell_type": "code",
   "execution_count": 120,
   "id": "1dba1248",
   "metadata": {},
   "outputs": [],
   "source": [
    "l_max_flow = 5 + 10"
   ]
  },
  {
   "cell_type": "code",
   "execution_count": 121,
   "id": "039624f8",
   "metadata": {},
   "outputs": [],
   "source": [
    "# поиск самого быстрого потока"
   ]
  },
  {
   "cell_type": "code",
   "execution_count": 122,
   "id": "ad7b951b",
   "metadata": {},
   "outputs": [],
   "source": [
    "l_ttime = [1, 1/2, 1, 1, 1, 1, 1, 1/6, 11/12, 3/4]\n",
    "\n",
    "# левая сторона неравенств\n",
    "l_left_ineq_2 = [[1, 0, 0, 0, 0, 0, 0, 0, 0, 0],\n",
    "               [0, 1, 0, 0, 0, 0, 0, 0, 0, 0],\n",
    "               [0, 0, 1, 0, 0, 0, 0, 0, 0, 0],\n",
    "               [0, 0, 0, 1, 0, 0, 0, 0, 0, 0],\n",
    "               [0, 0, 0, 0, 1, 0, 0, 0, 0, 0],\n",
    "               [0, 0, 0, 0, 0, 1, 0, 0, 0, 0],\n",
    "               [0, 0, 0, 0, 0, 0, 1, 0, 0, 0],\n",
    "               [0, 0, 0, 0, 0, 0, 0, 1, 0, 0],\n",
    "               [0, 0, 0, 0, 0, 0, 0, 0, 1, 0],\n",
    "               [0, 0, 0, 0, 0, 0, 0, 0, 0, 1]]\n",
    "            \n",
    "# правая сторона неравенств\n",
    "l_right_ineq_2 = [8, 8, 5, 5, 10,\n",
    "                10, 10, 10, 10, 5]  \n",
    "\n",
    "# левая сторона равенств            \n",
    "l_left_eq_2 =  [[1, 0, 0, 0, 1, 0, 0, 0, 0, 0],\n",
    "              [-1, 1, 0, 0, 0, 0, 0, 0, 0, 0],\n",
    "              [0, -1, 1, 0, 0, 0, 0, 0, 0, 1],\n",
    "              [0, 0, -1, 1, 0, 0, 0, 0, 0, 0],\n",
    "              [0, 0, 0, 0, -1, 1, 0, 0, 0, 0],\n",
    "              [0, 0, 0, 0, 0, -1, 1, 0, 0, 0],\n",
    "              [0, 0, 0, 0, 0, 0, -1, 1, 0, 0],\n",
    "              [0, 0, 0, 0, 0, 0, 0, -1, 1, -1],\n",
    "              [0, 0, 0, -1, 0, 0, 0, 0, -1, 0]]\n",
    "\n",
    "# правая сторона равенств\n",
    "l_right_eq_2 = [15, 0, 0, 0, 0, 0, 0, 0, -15]"
   ]
  },
  {
   "cell_type": "code",
   "execution_count": 123,
   "id": "b44149ef",
   "metadata": {},
   "outputs": [],
   "source": [
    "l_bounds_2 = [(0, float(\"inf\")),\n",
    "            (0, float(\"inf\")),\n",
    "            (0, float(\"inf\")),\n",
    "            (0, float(\"inf\")),\n",
    "            (0, float(\"inf\")),\n",
    "            (0, float(\"inf\")),\n",
    "            (0, float(\"inf\")),\n",
    "            (0, float(\"inf\")),\n",
    "            (0, float(\"inf\")),\n",
    "            (0, float(\"inf\")),]"
   ]
  },
  {
   "cell_type": "code",
   "execution_count": 124,
   "id": "a4759424",
   "metadata": {},
   "outputs": [
    {
     "name": "stdout",
     "output_type": "stream",
     "text": [
      "     con: array([0., 0., 0., 0., 0., 0., 0., 0., 0.])\n",
      "     fun: 55.58333333333333\n",
      " message: 'Optimization terminated successfully.'\n",
      "     nit: 11\n",
      "   slack: array([0., 0., 0., 0., 3., 3., 3., 3., 0., 2.])\n",
      "  status: 0\n",
      " success: True\n",
      "       x: array([ 8.,  8.,  5.,  5.,  7.,  7.,  7.,  7., 10.,  3.])\n"
     ]
    }
   ],
   "source": [
    "l_optimization_2 = linprog(c=ttime, A_ub=left_ineq_2, b_ub=right_ineq_2,\n",
    "                         A_eq=left_eq_2, b_eq=right_eq_2, bounds=bounds_2,\n",
    "                         method=\"revised simplex\")\n",
    "print(optimization_2)\n",
    "\n",
    "l_Time = (100 + np.dot(np.array([1, 1/2, 1, 1, 1, 1, 1, 1/6, 11/12, 3/4]),\n",
    "                     np.array([ 8.,  8.,  5.,  5.,  7.,  7.,  7.,  7.,  10.,  3.]))) / max_flow"
   ]
  },
  {
   "cell_type": "code",
   "execution_count": 125,
   "id": "4d52df2b",
   "metadata": {},
   "outputs": [
    {
     "name": "stdout",
     "output_type": "stream",
     "text": [
      "Оптимальное время на перевозку 100 больших грузовиков -  10.372222222222222\n"
     ]
    }
   ],
   "source": [
    "print('Оптимальное время на перевозку 100 больших грузовиков - ', l_Time)\n",
    "# Веса соответственно распределяются как в оптимальном векторе-аргументе, то есть так: [ 8.,  8.,  5.,  5.,  7.,  7.,  7.,  7., 10.,  3.]"
   ]
  },
  {
   "cell_type": "code",
   "execution_count": null,
   "id": "4018135f",
   "metadata": {},
   "outputs": [],
   "source": []
  },
  {
   "cell_type": "code",
   "execution_count": null,
   "id": "7e77157d",
   "metadata": {},
   "outputs": [],
   "source": []
  },
  {
   "cell_type": "code",
   "execution_count": 126,
   "id": "3f4a821c",
   "metadata": {},
   "outputs": [],
   "source": [
    "# Все аналогично для маленьких грузовиков:"
   ]
  },
  {
   "cell_type": "code",
   "execution_count": 109,
   "id": "6c7ebc00",
   "metadata": {},
   "outputs": [],
   "source": [
    "s_maxx_flow = [-1, 0, 0, 0, -1, 0, 0, 0, 0]\n",
    "\n",
    "\n",
    "# левая сторона неравенств\n",
    "s_left_ineq_1 = [[1, 0, 0, 0, 0, 0, 0, 0, 0],\n",
    "                 [0, 1, 0, 0, 0, 0, 0, 0, 0],\n",
    "                 [0, 0, 1, 0, 0, 0, 0, 0, 0],\n",
    "                 [0, 0, 0, 1, 0, 0, 0, 0, 0],\n",
    "                 [0, 0, 0, 0, 1, 0, 0, 0, 0],\n",
    "                 [0, 0, 0, 0, 0, 1, 0, 0, 0],\n",
    "                 [0, 0, 0, 0, 0, 0, 1, 0, 0],\n",
    "                 [0, 0, 0, 0, 0, 0, 0, 1, 0],\n",
    "                 [0, 0, 0, 0, 0, 0, 0, 0, 1]]\n",
    "            \n",
    "# правая сторона неравенств\n",
    "s_right_ineq_1 = [30, 30, 20, 20, 40, 40, 40, 40, 20]  \n",
    "\n",
    "# левая сторона равенств            \n",
    "s_left_eq_1 =  [[1, 0, 0, 0, 1, 0, 0, 0, 0],\n",
    "                [-1, 1, 0, 0, 0, 0, 0, 0, 0],\n",
    "                [0, -1, 1, 0, 0, 0, 0, 0, 0],\n",
    "                [0, 0, -1, 1, 0, 0, 0, 0, 0],\n",
    "                [0, 0, 0, 0, -1, 1, 0, 0, 0],\n",
    "                [0, 0, 0, 0, 0, -1, 1, 0, 0],\n",
    "                [0, 0, 0, 0, 0, 0, -1, 1, 0],\n",
    "                [0, 0, 0, 0, 0, 0, 0, -1, 1],\n",
    "                [0, 0, 0, -1, 0, 0, 0, 0, -1]]\n",
    "\n",
    "# правая сторона равенств\n",
    "s_right_eq_1 = [40, 0, 0, 0, 0, 0, 0, 0, -40]"
   ]
  },
  {
   "cell_type": "code",
   "execution_count": 110,
   "id": "708cb358",
   "metadata": {},
   "outputs": [],
   "source": [
    "s_bounds_1 = [(0, float(\"inf\")),\n",
    "            (0, float(\"inf\")),\n",
    "            (0, float(\"inf\")),\n",
    "            (0, float(\"inf\")),\n",
    "            (0, float(\"inf\")),\n",
    "            (0, float(\"inf\")),\n",
    "            (0, float(\"inf\")),\n",
    "            (0, float(\"inf\")),\n",
    "            (0, float(\"inf\")),]"
   ]
  },
  {
   "cell_type": "code",
   "execution_count": 111,
   "id": "9a09fcf0",
   "metadata": {},
   "outputs": [
    {
     "data": {
      "text/plain": [
       "     con: array([0., 0., 0., 0., 0., 0., 0., 0., 0.])\n",
       "     fun: -40.0\n",
       " message: 'Optimization terminated successfully.'\n",
       "     nit: 9\n",
       "   slack: array([10., 10.,  0.,  0., 20., 20., 20., 20.,  0.])\n",
       "  status: 0\n",
       " success: True\n",
       "       x: array([20., 20., 20., 20., 20., 20., 20., 20., 20.])"
      ]
     },
     "execution_count": 111,
     "metadata": {},
     "output_type": "execute_result"
    }
   ],
   "source": [
    "s_optimization_1 = linprog(c=s_maxx_flow, A_ub=s_left_ineq_1, b_ub=s_right_ineq_1,\n",
    "                         A_eq=s_left_eq_1, b_eq=s_right_eq_1, bounds=s_bounds_1,\n",
    "                         method=\"revised simplex\")\n",
    "\n",
    "s_optimization_1\n"
   ]
  },
  {
   "cell_type": "code",
   "execution_count": 112,
   "id": "c599d79f",
   "metadata": {},
   "outputs": [],
   "source": [
    "s_max_flow = 20 + 20"
   ]
  },
  {
   "cell_type": "code",
   "execution_count": null,
   "id": "d64418c1",
   "metadata": {},
   "outputs": [],
   "source": []
  },
  {
   "cell_type": "code",
   "execution_count": null,
   "id": "2fd806a8",
   "metadata": {},
   "outputs": [],
   "source": []
  },
  {
   "cell_type": "code",
   "execution_count": 113,
   "id": "06527d9b",
   "metadata": {},
   "outputs": [],
   "source": [
    "s_ttime = [1, 1/2, 1, 1, 1, 1, 1, 1/6, 11/12]\n",
    "\n",
    "s_left_ineq_2 = [[1, 0, 0, 0, 0, 0, 0, 0, 0],\n",
    "                 [0, 1, 0, 0, 0, 0, 0, 0, 0],\n",
    "                 [0, 0, 1, 0, 0, 0, 0, 0, 0],\n",
    "                 [0, 0, 0, 1, 0, 0, 0, 0, 0],\n",
    "                 [0, 0, 0, 0, 1, 0, 0, 0, 0],\n",
    "                 [0, 0, 0, 0, 0, 1, 0, 0, 0],\n",
    "                 [0, 0, 0, 0, 0, 0, 1, 0, 0],\n",
    "                 [0, 0, 0, 0, 0, 0, 0, 1, 0],\n",
    "                 [0, 0, 0, 0, 0, 0, 0, 0, 1]]\n",
    "            \n",
    "s_right_ineq_2 = [30, 30, 20, 20, 40, 40, 40, 40, 20]  \n",
    "\n",
    "s_left_eq_2 =  [[1, 0, 0, 0, 1, 0, 0, 0, 0],\n",
    "               [-1, 1, 0, 0, 0, 0, 0, 0, 0],\n",
    "               [0, -1, 1, 0, 0, 0, 0, 0, 0],\n",
    "               [0, 0, -1, 1, 0, 0, 0, 0, 0],\n",
    "               [0, 0, 0, 0, -1, 1, 0, 0, 0],\n",
    "               [0, 0, 0, 0, 0, -1, 1, 0, 0],\n",
    "               [0, 0, 0, 0, 0, 0, -1, 1, 0],\n",
    "               [0, 0, 0, 0, 0, 0, 0, -1, 1],\n",
    "               [0, 0, 0, -1, 0, 0, 0, 0, -1]]\n",
    "\n",
    "s_right_eq_2 = [s_max_flow, 0, 0, 0, 0, 0, 0, 0, -s_max_flow]"
   ]
  },
  {
   "cell_type": "code",
   "execution_count": 114,
   "id": "ca4b407d",
   "metadata": {},
   "outputs": [],
   "source": [
    "s_bounds_2 = [(0, float(\"inf\")),\n",
    "              (0, float(\"inf\")),\n",
    "              (0, float(\"inf\")),\n",
    "              (0, float(\"inf\")),\n",
    "              (0, float(\"inf\")),\n",
    "              (0, float(\"inf\")),\n",
    "              (0, float(\"inf\")),\n",
    "              (0, float(\"inf\")),\n",
    "              (0, float(\"inf\")),]"
   ]
  },
  {
   "cell_type": "code",
   "execution_count": 129,
   "id": "c4867715",
   "metadata": {},
   "outputs": [
    {
     "name": "stdout",
     "output_type": "stream",
     "text": [
      "     con: array([0., 0., 0., 0., 0., 0., 0., 0., 0.])\n",
      "     fun: 151.66666666666669\n",
      " message: 'Optimization terminated successfully.'\n",
      "     nit: 10\n",
      "   slack: array([10., 10.,  0.,  0., 20., 20., 20., 20.,  0.])\n",
      "  status: 0\n",
      " success: True\n",
      "       x: array([20., 20., 20., 20., 20., 20., 20., 20., 20.])\n"
     ]
    }
   ],
   "source": [
    "s_optimization_2 = linprog(c=s_ttime, A_ub=s_left_ineq_2, b_ub=s_right_ineq_2,\n",
    "                           A_eq=s_left_eq_2, b_eq=s_right_eq_2, bounds=s_bounds_2,\n",
    "                           method=\"revised simplex\")\n",
    "print(s_optimization_2)\n",
    "\n",
    "s_Time = (500 + np.dot(np.array([1, 1/2, 1, 1, 1, 1, 1, 1/6, 11/12]),\n",
    "                      np.array([20., 20., 20., 20., 20., 20., 20., 20., 20.]))) / s_max_flow"
   ]
  },
  {
   "cell_type": "code",
   "execution_count": 131,
   "id": "40ec7b65",
   "metadata": {},
   "outputs": [
    {
     "name": "stdout",
     "output_type": "stream",
     "text": [
      "Оптимальное время на перевозку 100 больших грузовиков - 16.291666666666668\n"
     ]
    }
   ],
   "source": [
    "print('Оптимальное время на перевозку 500 маленьких грузовиков -', s_Time)\n",
    "# Веса соответственно распределяются как в оптимальном векторе-аргументе, то есть так: [20., 20., 20., 20., 20., 20., 20., 20., 20.]"
   ]
  },
  {
   "cell_type": "code",
   "execution_count": null,
   "id": "b12d382b",
   "metadata": {},
   "outputs": [],
   "source": []
  },
  {
   "cell_type": "code",
   "execution_count": null,
   "id": "40434dba",
   "metadata": {},
   "outputs": [],
   "source": []
  },
  {
   "cell_type": "code",
   "execution_count": null,
   "id": "e320b29e",
   "metadata": {},
   "outputs": [],
   "source": []
  },
  {
   "cell_type": "code",
   "execution_count": null,
   "id": "cce12cad",
   "metadata": {},
   "outputs": [],
   "source": []
  }
 ],
 "metadata": {
  "kernelspec": {
   "display_name": "Python 3 (ipykernel)",
   "language": "python",
   "name": "python3"
  },
  "language_info": {
   "codemirror_mode": {
    "name": "ipython",
    "version": 3
   },
   "file_extension": ".py",
   "mimetype": "text/x-python",
   "name": "python",
   "nbconvert_exporter": "python",
   "pygments_lexer": "ipython3",
   "version": "3.9.12"
  }
 },
 "nbformat": 4,
 "nbformat_minor": 5
}
